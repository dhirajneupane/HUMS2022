{
 "cells": [
  {
   "cell_type": "markdown",
   "id": "b05cdf6e",
   "metadata": {},
   "source": [
    "# Packages"
   ]
  },
  {
   "cell_type": "code",
   "execution_count": null,
   "id": "8e29b047",
   "metadata": {},
   "outputs": [],
   "source": [
    "import numpy as np\n",
    "import matplotlib.pyplot as plt\n",
    "import scipy.io\n",
    "from matplotlib import cm\n",
    "import pandas as pd\n",
    "\n",
    "from os import listdir\n",
    "from os.path import isfile, join\n",
    "#from pycaret.anomaly import *\n",
    "import plotly.graph_objects as go\n",
    "import plotly.express as px\n",
    "import time"
   ]
  },
  {
   "cell_type": "markdown",
   "id": "ce7b6b00",
   "metadata": {},
   "source": [
    "# Input Average Speed Torque"
   ]
  },
  {
   "cell_type": "code",
   "execution_count": null,
   "id": "110e7bfc",
   "metadata": {},
   "outputs": [],
   "source": [
    "speed = scipy.io.loadmat(\"/home/parker/data/HUMS2023/Input_Average_Speed_Torque.mat\")\n",
    "speed"
   ]
  },
  {
   "cell_type": "markdown",
   "id": "60b3f331",
   "metadata": {},
   "source": [
    "## torque load"
   ]
  },
  {
   "cell_type": "code",
   "execution_count": null,
   "id": "3be9ae1f",
   "metadata": {},
   "outputs": [],
   "source": [
    "import matplotlib.pyplot as plt\n",
    "import numpy as np\n",
    "x = range(len(speed[\"TT\"][0]))\n",
    "y = speed[\"TT\"][0]\n",
    "plt.title(\"torque load\")\n",
    "plt.xlabel(\"file number\")\n",
    "plt.plot(x,y)\n",
    "plt.show()"
   ]
  },
  {
   "cell_type": "markdown",
   "id": "9ea8479c",
   "metadata": {},
   "source": [
    "## shaft speed"
   ]
  },
  {
   "cell_type": "code",
   "execution_count": null,
   "id": "a08615ee",
   "metadata": {},
   "outputs": [],
   "source": [
    "x = range(len(speed[\"Shaft_Speed\"][0]))\n",
    "y = speed[\"Shaft_Speed\"][0]\n",
    "plt.xlabel(\"shaft speed\")\n",
    "plt.title(\"torque load\")\n",
    "plt.plot(x,y)\n",
    "plt.show()"
   ]
  },
  {
   "cell_type": "markdown",
   "id": "5d99264d",
   "metadata": {},
   "source": [
    "# Gear Box Oil Temp"
   ]
  },
  {
   "cell_type": "code",
   "execution_count": null,
   "id": "85e1ecc4",
   "metadata": {},
   "outputs": [],
   "source": [
    "temp = scipy.io.loadmat(\"/home/parker/data/HUMS2023/05_Gearbox_oil_temp.mat\")"
   ]
  },
  {
   "cell_type": "code",
   "execution_count": null,
   "id": "f9097c49",
   "metadata": {},
   "outputs": [],
   "source": [
    "temp"
   ]
  },
  {
   "cell_type": "code",
   "execution_count": null,
   "id": "c921ed30",
   "metadata": {},
   "outputs": [],
   "source": [
    "x = range(len(temp[\"TC_in\"][0]))\n",
    "y = temp[\"TC_in\"][0]\n",
    "plt.title(\"Gearbox inlet oil temperature in Deg C\")\n",
    "plt.xlabel(\"Cycle\")\n",
    "plt.plot(x,y)\n",
    "plt.show()"
   ]
  },
  {
   "cell_type": "code",
   "execution_count": null,
   "id": "8131dfc4",
   "metadata": {},
   "outputs": [],
   "source": [
    "x = range(len(temp[\"TC_out\"][0]))\n",
    "y = temp[\"TC_out\"][0]\n",
    "plt.title(\"Gearbox outlet oil temperature in Deg C\")\n",
    "plt.xlabel(\"Cycle\")\n",
    "plt.plot(x,y)\n",
    "plt.show()"
   ]
  },
  {
   "cell_type": "markdown",
   "id": "d95b015e",
   "metadata": {},
   "source": [
    "# Data Processing <a class=\"anchor\" id=\"dataprocessing\"></a>"
   ]
  },
  {
   "cell_type": "code",
   "execution_count": null,
   "id": "ab1480a4",
   "metadata": {},
   "outputs": [],
   "source": [
    "def create_data_frame(data_path):\n",
    "    \"\"\"\n",
    "    This function aims to create a dataframe\n",
    "    \n",
    "    INPUT:\n",
    "         + data_path: the path of the data folder\n",
    "    OUTPUT:\n",
    "         + a dataframe that contains 5 columns: File, Day, Date, Time, Timestamp\n",
    "    \"\"\"\n",
    "    file_names = [f for f in listdir(data_path) if isfile(join(data_path, f))] #Get all filenames in the folder\n",
    "    image_names = [f for f in file_names if f[-3:] == \"mat\"] #Get all image names by filering out unnecessary files\n",
    "    \n",
    "    df = pd.DataFrame() #Create the dataframe\n",
    "    file_paths = []     #Store image path to read image\n",
    "    days = []           #Store days (e.g DAY01, Day 02)\n",
    "    dates = []          #Store date (e.g 2021-12-08)\n",
    "    hours = []          #Store time (e.g 10:47:55)\n",
    "    \n",
    "    for file in image_names:\n",
    "        if len(file.split(\"_\")) == 5:\n",
    "            day, a, b, date, hour = file.split(\"_\")\n",
    "            file_paths.append(data_path+file)\n",
    "            days.append(day)\n",
    "            dates.append(date)\n",
    "            hours.append(hour[:-4])\n",
    "    df[\"File\"] = file_paths\n",
    "    df[\"Day\"] = days\n",
    "    df[\"Date\"] = dates\n",
    "    df[\"Time\"] = hours\n",
    "    df[\"Date\"] = df[\"Date\"].apply(lambda x: x[:4]+ '-'+ x[4:6]+ '-' + x[6:])\n",
    "    df[\"Time\"] = df[\"Time\"].apply(lambda x: x[:2]+ ':'+ x[2:4]+ ':' + x[4:])\n",
    "    df[\"Timestamp\"] = pd.to_datetime(df['Date'] + ' ' + df['Time']) #Create Timestamp to sort the dataframe by time\n",
    "    df = df.sort_values(by=['Timestamp'])\n",
    "    return df"
   ]
  },
  {
   "cell_type": "code",
   "execution_count": null,
   "id": "f50b9654",
   "metadata": {},
   "outputs": [],
   "source": [
    "def data_loader(data_path, sensor):\n",
    "    \"\"\"\n",
    "    Input_path:\n",
    "        data_path: path to the data folder\n",
    "        sensor: The sensor that we want to load the data (e.g. Pinion, BevelSun,Planets, Ring)\n",
    "    \n",
    "    \n",
    "    Output: A dataframe that contains wave vales and timestamps\n",
    "    \"\"\"\n",
    "    #Create a dataframe\n",
    "    df = create_data_frame(data_path)\n",
    "    \n",
    "    sensors = {\"IP-1\": 0,\n",
    "         \"RF-2\": 1,\n",
    "         \"RL-3\": 2,\n",
    "         \"RR-4\": 3}\n",
    "    data = []\n",
    "    timestamps = []\n",
    "    for i in range(len(df)-3,len(df)):\n",
    "        file_path  = df.iloc[i].File\n",
    "        mat = scipy.io.loadmat(file_path)['xah'][0]\n",
    "        wave = mat[sensors[sensor]].reshape(1, 405405)[0]\n",
    "        data += list(wave)\n",
    "\n",
    "    start_time = time.time()\n",
    "    print(\"Done!\")\n",
    "    print(\"--- %s seconds ---\" % (time.time() - start_time))\n",
    "    return pd.DataFrame({sensor: data})"
   ]
  },
  {
   "cell_type": "code",
   "execution_count": null,
   "id": "7a504bb5",
   "metadata": {},
   "outputs": [],
   "source": [
    "data_path = \"/home/parker/data/HUMS2023/\"\n",
    "sensor = \"IP-1\" #Pinion, BevelSun, Planets, Ring\n",
    "data = data_loader(data_path, sensor)"
   ]
  },
  {
   "cell_type": "markdown",
   "id": "a1f83172",
   "metadata": {},
   "source": [
    "# Moving Average Visualization"
   ]
  },
  {
   "cell_type": "code",
   "execution_count": null,
   "id": "edc901e4",
   "metadata": {},
   "outputs": [],
   "source": [
    "def moving_average(data):\n",
    "    data['MA64'] = data[data.columns[0]].rolling(64).mean()\n",
    "    data['MA16'] = data[data.columns[0]].rolling(16).mean()\n",
    "    fig = px.line(data,y=[data.columns[0], \"MA16\", \"MA64\"], title=data.columns[0], template = 'plotly_dark',\n",
    "                  width=900, height=600)\n",
    "    fig.write_image(\"./fig1.pdf\")\n",
    "    fig.show()\n",
    "    \n",
    "    print(\"done!\")\n",
    "moving_average(data)"
   ]
  },
  {
   "cell_type": "code",
   "execution_count": null,
   "id": "c20de732",
   "metadata": {},
   "outputs": [],
   "source": []
  }
 ],
 "metadata": {
  "kernelspec": {
   "display_name": "Python 3 (ipykernel)",
   "language": "python",
   "name": "python3"
  },
  "language_info": {
   "codemirror_mode": {
    "name": "ipython",
    "version": 3
   },
   "file_extension": ".py",
   "mimetype": "text/x-python",
   "name": "python",
   "nbconvert_exporter": "python",
   "pygments_lexer": "ipython3",
   "version": "3.7.13"
  }
 },
 "nbformat": 4,
 "nbformat_minor": 5
}
